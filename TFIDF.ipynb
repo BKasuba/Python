{
 "metadata": {
  "language_info": {
   "codemirror_mode": {
    "name": "ipython",
    "version": 3
   },
   "file_extension": ".py",
   "mimetype": "text/x-python",
   "name": "python",
   "nbconvert_exporter": "python",
   "pygments_lexer": "ipython3",
   "version": "3.9.5"
  },
  "orig_nbformat": 2,
  "kernelspec": {
   "name": "python395jvsc74a57bd0dcacb0086e9a4f4eabd41c33bf4faac5ea0a3337ed3f5eff0680afa930572c04",
   "display_name": "Python 3.9.5 64-bit"
  },
  "metadata": {
   "interpreter": {
    "hash": "dcacb0086e9a4f4eabd41c33bf4faac5ea0a3337ed3f5eff0680afa930572c04"
   }
  }
 },
 "nbformat": 4,
 "nbformat_minor": 2,
 "cells": [
  {
   "cell_type": "code",
   "execution_count": 1,
   "metadata": {},
   "outputs": [
    {
     "output_type": "stream",
     "name": "stdout",
     "text": [
      "Requirement already satisfied: lxml in c:\\users\\admin\\appdata\\local\\programs\\python\\python39\\lib\\site-packages (4.6.3)\nNote: you may need to restart the kernel to use updated packages.\n"
     ]
    }
   ],
   "source": [
    "\n",
    "\n",
    "pip install lxml"
   ]
  },
  {
   "cell_type": "code",
   "execution_count": 1,
   "metadata": {},
   "outputs": [],
   "source": [
    "def read_data(path, files):\n",
    "  data = []\n",
    "  for f in files:\n",
    "    with open(path+f, encoding= \"utf8\") as file:\n",
    "      ### Begin your code here\n",
    "      ## Read a line from the file and append it to the data list\n",
    "      data.append(file.read()) \n",
    "      ### End your code here\n",
    "  return data"
   ]
  },
  {
   "cell_type": "code",
   "execution_count": 2,
   "metadata": {},
   "outputs": [],
   "source": [
    "from bs4 import BeautifulSoup\n",
    "\n",
    "files = os.listdir('C:\\\\Users\\\\Admin\\\\Desktop\\\\Texts')\n",
    "\n",
    "readDoc = read_data('C:\\\\Users\\\\Admin\\\\Desktop\\\\Texts\\\\', files)\n"
   ]
  },
  {
   "cell_type": "code",
   "execution_count": 3,
   "metadata": {},
   "outputs": [
    {
     "output_type": "stream",
     "name": "stdout",
     "text": [
      "3\n"
     ]
    }
   ],
   "source": [
    "print(len(readDoc))\n",
    "#print(docs[1])"
   ]
  },
  {
   "cell_type": "code",
   "execution_count": 4,
   "metadata": {},
   "outputs": [
    {
     "output_type": "stream",
     "name": "stdout",
     "text": [
      "THESE ARE THE FREQUENCIES\nTHESE ARE THE FREQUENCIES AFTER DIVIDING BY TOTAL NUMER OF TERMS IN THE DOCUMENT\nTHESE ARE THE IDFS\n[[0.         0.05017167 0.05017167 0.         0.05017167 0.\n  0.         0.         0.         0.         0.        ]\n [0.         0.         0.         0.         0.         0.03762875\n  0.03762875 0.03762875 0.03762875 0.03762875 0.03762875]]\n    my      name        is  teddy      boss    claire      said     bears  \\\n0  0.0  0.050172  0.050172    0.0  0.050172  0.000000  0.000000  0.000000   \n1  0.0  0.000000  0.000000    0.0  0.000000  0.037629  0.037629  0.037629   \n\n        are  favourite      toys  \n0  0.000000   0.000000  0.000000  \n1  0.037629   0.037629  0.037629  \n"
     ]
    }
   ],
   "source": [
    "import numpy as np\n",
    "import re\n",
    "import math\n",
    "import tabulate\n",
    "import pandas as pd\n",
    "import string\n",
    "\n",
    "#read_data('C:\\\\Users\\\\Admin\\\\Desktop\\\\Texts\\\\', files)\n",
    "\n",
    "rawString = [\"my name is teddy teddy boss\",\"claire said teddy bears are my favourite toys\"]\n",
    "pattern = '[0-9’“”\"-]'\n",
    "\n",
    "\n",
    "nopunct = []\n",
    "documents = []\n",
    "for s in rawString:\n",
    "    x = \"\"\n",
    "    x = re.sub('\\\\n','',s)\n",
    "    x = re.sub(pattern,'',x)\n",
    "    x = x.lower()\n",
    "    x = x.translate(str.maketrans('','', string.punctuation))\n",
    "    documents.append(x)\n",
    "\n",
    "#print(documents)\n",
    "\n",
    "\n",
    "\n",
    "def uniqueWords(document):\n",
    "    allUniqueWords = []\n",
    "\n",
    "    #counter for documents\n",
    "    c = 0\n",
    "    #counter for split words made from each document\n",
    "    j = 0\n",
    "    \n",
    "    for x in document:\n",
    "        string = document[c]\n",
    "        nothing = 0\n",
    "        #print(string)\n",
    "        #string = re.sub(r'[^\\w\\s]','',string)\n",
    "        #print(string)\n",
    "        c = c +1\n",
    "        words = string.split(\" \")\n",
    "        for word in words:\n",
    "            if words[j] in allUniqueWords:\n",
    "                #print(\"already in list\")\n",
    "                nothing += 1\n",
    "            else:\n",
    "                allUniqueWords.append(words[j])\n",
    "            j = j + 1\n",
    "\n",
    "        #print(allUniqueWords)\n",
    "        j = 0\n",
    "    return allUniqueWords\n",
    "\n",
    "\n",
    "allUniqueWords = uniqueWords(documents)\n",
    "\n",
    "\n",
    "\n",
    "def freqs(documents, uniquewords):\n",
    "    width = len(uniquewords)\n",
    "    height = len(documents)\n",
    "    #counter for documents\n",
    "    d = 0\n",
    "    #counter for words\n",
    "    w = 0\n",
    "\n",
    "    tf = np.array([[0] * width for i in range(height)])\n",
    "\n",
    "    for docs in documents:\n",
    "        string = documents[d]\n",
    "        d = d + 1\n",
    "        words = string.split(\" \")\n",
    "        for word in words:\n",
    "            if words[w] in allUniqueWords:\n",
    "               tf[d-1][allUniqueWords.index(words[w])] = tf[d-1][allUniqueWords.index(words[w])] + 1\n",
    "               w = w + 1\n",
    "        w = 0\n",
    "\n",
    "\n",
    "    return tf\n",
    "\n",
    "\n",
    "\n",
    "def TF(freqs, documents,uniquewords):\n",
    "    width = len(uniquewords)\n",
    "    height = len(documents)\n",
    "    d = 0\n",
    "\n",
    "    tfreq = np.array([[0.0] * width for i in range(height)])\n",
    "    sum = 0\n",
    "\n",
    "    for i in range(freqs.shape[0]):\n",
    "        row = freqs[d]\n",
    "        \n",
    "        for k in range(len(row)):\n",
    "            sum = sum + row[k]\n",
    "            \n",
    "\n",
    "        for j in range(freqs.shape[1]):\n",
    "            tfreq[i][j] = freqs[i][j]/sum\n",
    "        \n",
    "        d = d + 1\n",
    "        sum = 0\n",
    "    \n",
    "    return tfreq\n",
    "\n",
    "\n",
    "def sumColumn(m, column):\n",
    "    total = 0\n",
    "    \n",
    "    for row in range(len(m)):\n",
    "        if m[row][column]>0:\n",
    "            total += 1\n",
    "    return total\n",
    "#print(\"COLUMN 13\", sumColumn(tf,13))\n",
    "def IDF(documents,tf,uniquewords):\n",
    "    width = len(uniquewords)\n",
    "    idf = np.array([0.0] * width)\n",
    "    totaldoc = len(documents)\n",
    "    \n",
    "\n",
    "    for i in range(len(idf)):\n",
    "        \n",
    "        idf[i] = math.log10(totaldoc/sumColumn(tf,i))\n",
    "        #print(\"i just did\", totaldoc,\"divided by\",sumColumn(tf,i), \"where i is: \", i, \"and the answer is: \", idf[i])\n",
    "    return idf\n",
    "    \n",
    "            \n",
    "print(\"THESE ARE THE FREQUENCIES\")\n",
    "tfreqs = freqs(documents, allUniqueWords)\n",
    "#print(tfreqs)\n",
    "\n",
    "print(\"THESE ARE THE FREQUENCIES AFTER DIVIDING BY TOTAL NUMER OF TERMS IN THE DOCUMENT\")\n",
    "tf = TF(tfreqs,documents,allUniqueWords)\n",
    "#print(tf)\n",
    "\n",
    "print(\"THESE ARE THE IDFS\")\n",
    "idf = IDF(documents,tfreqs,allUniqueWords)\n",
    "#print(idf)\n",
    "\n",
    "\n",
    "\n",
    "\n",
    "tfidf = np.array(tf * idf)\n",
    "print(tfidf)\n",
    "\n",
    "table = pd.DataFrame(tfidf, columns = allUniqueWords)\n",
    "print(table)\n",
    "\n",
    "#print(np.matrix(tfidf))\n",
    "\n",
    "#for line in tfidf:\n",
    " #   print ('  '.join(map(str, line)))\n",
    "\n",
    "\n"
   ]
  },
  {
   "cell_type": "code",
   "execution_count": 12,
   "metadata": {},
   "outputs": [
    {
     "output_type": "stream",
     "name": "stdout",
     "text": [
      "        are     bears      boss    claire  favourite        is   my      name  \\\n0  0.000000  0.000000  0.050172  0.000000   0.000000  0.050172  0.0  0.050172   \n1  0.037629  0.037629  0.000000  0.037629   0.037629  0.000000  0.0  0.000000   \n\n       said  teddy      toys  \n0  0.000000    0.0  0.000000  \n1  0.037629    0.0  0.037629  \n"
     ]
    }
   ],
   "source": [
    "sortIndex = table.sort_index(axis=1)\n",
    "#sortValue = table.sort_values(axis= 1)\n",
    "\n",
    "print(sortIndex)\n",
    "#print(sortValue)"
   ]
  },
  {
   "cell_type": "code",
   "execution_count": null,
   "metadata": {},
   "outputs": [],
   "source": []
  }
 ]
}